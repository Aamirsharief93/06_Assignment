{
 "cells": [
  {
   "cell_type": "markdown",
   "id": "ca4d07b5-ad59-4a04-8de1-44d2c1c63070",
   "metadata": {},
   "source": [
    "#### Given an mxn matrix. Write a program to carry out Gaussian elimination.\n",
    "Report the following:\n",
    "1. The resultant matrix.\r\n",
    "2. the indexes of the columns that have pivots.\r"
   ]
  },
  {
   "cell_type": "code",
   "execution_count": 1,
   "id": "92314bca-1840-4f3d-a974-e00d9874ef4f",
   "metadata": {},
   "outputs": [
    {
     "name": "stdin",
     "output_type": "stream",
     "text": [
      "Enter the number of rows: 3\n"
     ]
    },
    {
     "name": "stdout",
     "output_type": "stream",
     "text": [
      "Enter elements of matrix:\n"
     ]
    },
    {
     "name": "stdin",
     "output_type": "stream",
     "text": [
      " 2 3 4\n",
      " 9 7 6\n",
      " 2 1 5\n"
     ]
    },
    {
     "name": "stdout",
     "output_type": "stream",
     "text": [
      "Enter elements of B column:\n"
     ]
    },
    {
     "name": "stdin",
     "output_type": "stream",
     "text": [
      " 5 1 8\n"
     ]
    },
    {
     "name": "stdout",
     "output_type": "stream",
     "text": [
      "Resultant matrix is:\n",
      "[[2.         3.         4.        ]\n",
      " [0.         1.44444444 2.66666667]\n",
      " [0.         0.         3.38888889]]\n",
      "Solution is:\n",
      "[-0.8852459016393439, -0.4754098360655737, 2.0491803278688523]\n",
      "Pivot indexes are:\n",
      "[0, 1, 2]\n"
     ]
    }
   ],
   "source": [
    "import numpy as np\n",
    "\n",
    "def gaussian_elemination(a,b):\n",
    "    # length of the system of equations\n",
    "    n = len(a)\n",
    "\n",
    "    # Elimination\n",
    "    # k specifies the fixed rows that is the pivots from 0 to n-2\n",
    "    for k in range(n-1):\n",
    "\n",
    "        # Checks if pivot is very close to zero\n",
    "        if abs(a[k,k])<1.0e-12:\n",
    "            # Loop to find a row with a larger element in the same column to swap with\n",
    "            for i in range (k+1,n):\n",
    "                if np.fabs(a[i,k])>np.fabs(a[k,k]):\n",
    "                    # Swapping rows k and i\n",
    "                    a[[k,i]]=a[[i,k]]\n",
    "                    b[[k,i]]=b[[i,k]]\n",
    "                    break\n",
    "        # i is used to apply elemination below the fixed rows from k+1 to n-1\n",
    "        for i in range(k+1,n):\n",
    "            # checks if first element is zero and skip to next iteration of i\n",
    "            if a[i,k]==0:\n",
    "                continue\n",
    "                \n",
    "            # calculates factor of a[k,k]/a[i,k]\n",
    "            factor=a[k,k]/a[i,k]\n",
    "            \n",
    "            # updates element of Matrix A,each of the correspoding columns from k to n-1\n",
    "            for j in range (k,n):\n",
    "                a[i,j]=a[k,j]-a[i,j]*factor\n",
    "\n",
    "            # Updates element of B from k to n-1\n",
    "            b[i]=b[k]-b[i]*factor\n",
    "            \n",
    "    # Backward substitution\n",
    "    # Solution vector\n",
    "    x = [0.0]*n\n",
    "    # Calculation of last variable\n",
    "    x[n-1]=b[n-1]/a[n-1,n-1]\n",
    "    \n",
    "    # Iterates through the remaining variables in reverse order\n",
    "    for i in range(n-2,-1,-1):\n",
    "        sum_ax=0\n",
    "        # Computes the sum of products for variable x[i]\n",
    "        for j in range(i+1,n):\n",
    "            sum_ax +=a[i,j]*x[j]\n",
    "        # Compute the value of variable x[i]\n",
    "        x[i]=(b[i]-sum_ax)/a[i,i]\n",
    "            \n",
    "    return a,x\n",
    "\n",
    "def pivots(a):\n",
    "    pivots=[]\n",
    "    for i in range(rows):\n",
    "        if a[i,i]!=0:\n",
    "            pivots.append(i)\n",
    "    return pivots\n",
    "\n",
    "# User prompt number of rows\n",
    "rows = int(input('Enter the number of rows:'))\n",
    "\n",
    "# User prompt elements for matrix of mentioned size\n",
    "print('Enter elements of matrix:')\n",
    "a = np.array([[float(element) for element in input ().split()] for i in range(rows)])\n",
    "\n",
    "print('Enter elements of B column:')\n",
    "b = np.array([float(element) for element in input ().split()])\n",
    "\n",
    "result1,result2=gaussian_elemination(a,b)\n",
    "print(f'Resultant matrix is:\\n{result1}\\nSolution is:\\n{result2}')\n",
    "print(f'Pivot indexes are:\\n{pivots(result1)}')\n",
    "\n"
   ]
  },
  {
   "cell_type": "markdown",
   "id": "7ff62947-3bcc-4626-8dc3-32b4d4374555",
   "metadata": {},
   "source": [
    "####  Grahm-Schmidt in algorithms\n",
    "Given n vectors, each having n components, write an algorithm that will orthogonalize these to make n\n",
    "orthogonal vectors from these vectors using the Grahm-Schmidt procedure."
   ]
  },
  {
   "cell_type": "code",
   "execution_count": 2,
   "id": "ca3fb92d-10b8-49ff-9d0c-07500ca9feca",
   "metadata": {},
   "outputs": [
    {
     "name": "stdin",
     "output_type": "stream",
     "text": [
      "Enter the number of vectors: 3\n"
     ]
    },
    {
     "name": "stdout",
     "output_type": "stream",
     "text": [
      "Enter the elements of vector 1:\n"
     ]
    },
    {
     "name": "stdin",
     "output_type": "stream",
     "text": [
      " 2 3 4\n"
     ]
    },
    {
     "name": "stdout",
     "output_type": "stream",
     "text": [
      "Enter the elements of vector 2:\n"
     ]
    },
    {
     "name": "stdin",
     "output_type": "stream",
     "text": [
      " 9 7 6\n"
     ]
    },
    {
     "name": "stdout",
     "output_type": "stream",
     "text": [
      "Enter the elements of vector 3:\n"
     ]
    },
    {
     "name": "stdin",
     "output_type": "stream",
     "text": [
      " 2 1 5\n"
     ]
    },
    {
     "name": "stdout",
     "output_type": "stream",
     "text": [
      "\n",
      "Orthogonl basis of given vectors are:\n",
      "q1 is:\n",
      "[2. 3. 4.]\n",
      "q2 is:\n",
      "[ 4.65517241  0.48275862 -2.68965517]\n",
      "q3 is:\n",
      "[ 0.72189349 -1.73254438  0.93846154]\n",
      "\n",
      "Orthonormal basis of given vectors are:\n",
      "N1 is:\n",
      "[0.37139068 0.55708601 0.74278135]\n",
      "N2 is:\n",
      "[ 0.86239537  0.08943359 -0.49827288]\n",
      "N3 is:\n",
      "[ 0.34401046 -0.8256251   0.4472136 ]\n"
     ]
    }
   ],
   "source": [
    "# Gram schmedit procedure\n",
    "\n",
    "import numpy as np\n",
    "\n",
    "# Function to perform Gram-Schmidt procedure using orthonormal and orthogonal functions\n",
    "def Grahm_Schmidt_procedure(*v,n):\n",
    "    # Function call orthonromal_basis\n",
    "    result2=orthonromal_basis(*v,n=n)\n",
    "\n",
    "\n",
    "# Function calculates orthonormal basis\n",
    "def orthonromal_basis(*v,n):\n",
    "    \n",
    "    # orthogonal basis function call to calculate orthogonal basis\n",
    "    result1=orthogonal_basis(*v,n=n)\n",
    "\n",
    "    # Initialize list to store orthonormal basis\n",
    "    N=[]\n",
    "    print('\\nOrthonormal basis of given vectors are:')\n",
    "\n",
    "    # Iterate over the orthogonal vectors\n",
    "    for i,q_i in enumerate(result1):\n",
    "\n",
    "        # Calculate orthonormal vector\n",
    "        N_i=q_i/np.sqrt(np.dot(q_i,q_i))\n",
    "\n",
    "        # Appending orthonormal vectors to the list\n",
    "        N.append(N_i)\n",
    "        # Displaying the orthonormal vectors\n",
    "        print(f'N{i + 1} is:\\n{N_i}')\n",
    "    return N\n",
    "\n",
    "\n",
    "# Fuction calculates orthogonal basis \n",
    "def orthogonal_basis(*v,n):\n",
    "\n",
    "    # Initialzie list to store orthogonal basis\n",
    "    q=[v[0]]\n",
    "    print(f'\\nOrthogonl basis of given vectors are:\\nq1 is:\\n{q[0]}')\n",
    "\n",
    "    # Iterarte over the other vectors\n",
    "    for i in range(1, n):\n",
    "\n",
    "        # Initialize a zero vector to store the projections \n",
    "        sum = [0]*n\n",
    "\n",
    "        # Iterates over the orthogonal basis and given vectors\n",
    "        for j in range(i):\n",
    "            \n",
    "            # Dot product of orthogonal basis\n",
    "            dot_product_of_qi_qi = np.dot(q[j], q[j])\n",
    "            # Dot product of orthogonal basis vectors and corresponding vector\n",
    "            dot_product_of_qi_v = np.dot(v[i], q[j]) \n",
    "            # Scalar multiple of  above two\n",
    "            scalar = dot_product_of_qi_v/dot_product_of_qi_qi \n",
    "            # Summation of the projections\n",
    "            sum+= scalar * q[j]\n",
    "        \n",
    "        # Computing the orthogonal vectors \n",
    "        q_i = v[i] - sum\n",
    "        # Appending the orthogonal vectors to the list\n",
    "        q.append(q_i)\n",
    "        # Displaying the current orthogonal vector\n",
    "        print(f'q{i + 1} is:\\n{q_i}')\n",
    "            \n",
    "    return q\n",
    "\n",
    "\n",
    "# Initialize empty list to store append differernt vectors\n",
    "vector=[]\n",
    "\n",
    "# User prompt number of vectors\n",
    "n=int(input('Enter the number of vectors:'))\n",
    "\n",
    "# User prompt for elements of matrix\n",
    "for i in range(n):\n",
    "    print(f'Enter the elements of vector {i + 1}:')\n",
    "    v=np.array([float(element) for element in input().split()])\n",
    "    vector.append(v)\n",
    "# Function call to perform Grahm Schmidt procedure\n",
    "Grahm_Schmidt_procedure(*vector,n=n)"
   ]
  },
  {
   "cell_type": "markdown",
   "id": "34bce5c0-12cf-4153-8f94-b5b9686b17f4",
   "metadata": {},
   "source": [
    "#### Finding Deteminant through recursion\n",
    "Given a nxn matrix, determine its determinant using python programming. Write a recursive cod"
   ]
  },
  {
   "cell_type": "code",
   "execution_count": 5,
   "id": "e2b02e8b-0b8f-4b42-a738-236c4970349e",
   "metadata": {},
   "outputs": [
    {
     "name": "stdin",
     "output_type": "stream",
     "text": [
      "Enter the number of rows: 3\n"
     ]
    },
    {
     "name": "stdout",
     "output_type": "stream",
     "text": [
      "Enter elements of matrix:\n"
     ]
    },
    {
     "name": "stdin",
     "output_type": "stream",
     "text": [
      " 3 7 1\n",
      " 2 8 5\n",
      " 3 7 9\n"
     ]
    },
    {
     "name": "stdout",
     "output_type": "stream",
     "text": [
      "Determinant of matrix is:\n",
      " 80\n"
     ]
    }
   ],
   "source": [
    "# Function determinant computes the determinant of matrix\n",
    "def determinant(matrix):\n",
    "    n=len(matrix)\n",
    "    # Base condition, if matrix is 1x1 return element\n",
    "    if(n==1):\n",
    "        return matrix[0][0]\n",
    "    else:\n",
    "        # Initialze sign for cofactor expansion \n",
    "        sign=1\n",
    "\n",
    "        # Initialize determinant as zero\n",
    "        det=0\n",
    "\n",
    "        # Iteration through columns\n",
    "        for col in range(n):\n",
    "            sub_matrix=[] # Initialize sub matrix for storing (n-1)x(n-1) matrix\n",
    "\n",
    "            # Iteration over each row of the matrix from the second row\n",
    "            for row in range(1,n):\n",
    "                sub_row=[] # Initialize sub-row to store elements of the sub-row\n",
    "\n",
    "                # Iterate over each element of the row\n",
    "                for i in range(n):\n",
    "                    if(i!=col): # Exclude the current column from the subrow\n",
    "                        \n",
    "                        # Append the element to the sub-row if it's not in the current column\n",
    "                        sub_row.append(matrix[row][i])\n",
    "                        \n",
    "                # Append the sub-row to the sub-matrix\n",
    "                sub_matrix.append(sub_row)\n",
    "            # Compute determinant of the submatrix recursively\n",
    "            det+=sign*matrix[0][col]*determinant(sub_matrix)\n",
    "            \n",
    "            sign*=-1 # Chnage the sign for cofactor expansion\n",
    "\n",
    "        return det\n",
    "\n",
    "# User prompt number of rows\n",
    "rows = int(input('Enter the number of rows:'))\n",
    "\n",
    "# Empty list to store user input elements \n",
    "A=[]\n",
    "\n",
    "# User prompt elements of matrix\n",
    "print('Enter elements of matrix:')\n",
    "for i in range(rows):\n",
    "    row = [int(element) for element in input ().split()]\n",
    "    A.append(row)\n",
    "\n",
    "# Function call to compute determinent\n",
    "result=determinant(A)\n",
    "\n",
    "# Dispaly output\n",
    "print('Determinant of matrix is:\\n',result)"
   ]
  },
  {
   "cell_type": "code",
   "execution_count": null,
   "id": "cb37855d-5d8e-4515-9db8-fdef01077bb2",
   "metadata": {},
   "outputs": [],
   "source": []
  }
 ],
 "metadata": {
  "kernelspec": {
   "display_name": "Python 3 (ipykernel)",
   "language": "python",
   "name": "python3"
  },
  "language_info": {
   "codemirror_mode": {
    "name": "ipython",
    "version": 3
   },
   "file_extension": ".py",
   "mimetype": "text/x-python",
   "name": "python",
   "nbconvert_exporter": "python",
   "pygments_lexer": "ipython3",
   "version": "3.11.5"
  }
 },
 "nbformat": 4,
 "nbformat_minor": 5
}
